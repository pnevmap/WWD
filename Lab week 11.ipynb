{
 "cells": [
  {
   "cell_type": "markdown",
   "id": "f331f661",
   "metadata": {},
   "source": [
    "## Time series with Pandas"
   ]
  },
  {
   "cell_type": "markdown",
   "id": "3ad2f995",
   "metadata": {},
   "source": [
    "For this lab, we are going to analyse some data about the Arstotzka country. Arstotzka is a communist country in the border with Kolechia."
   ]
  },
  {
   "attachments": {
    "Arstotzka.webp": {
     "image/webp": "[encoded data removed]"
    }
   },
   "cell_type": "markdown",
   "id": "f19f0973",
   "metadata": {},
   "source": [
    "![Arstotzka.webp](attachment:Arstotzka.webp)"
   ]
  },
  {
   "cell_type": "markdown",
   "id": "3695fcc7",
   "metadata": {},
   "source": [
    "Both countries have a volatile relationship. Crossing the border between the two countries had been impossible, even for Arstotzkan citizens, until November 23rd, 1982 when Arstotzka opened a checkpoint to allow entry from Kolechia. Crossing data has been collected since then. The Arstotzka government has hired you to help them understand emigration patterns and gain insights into their data."
   ]
  },
  {
   "cell_type": "markdown",
   "id": "5474ef54",
   "metadata": {},
   "source": [
    "### Task 1"
   ]
  },
  {
   "cell_type": "markdown",
   "id": "ba73f015",
   "metadata": {},
   "source": [
    "Load the `arstotzkan.csv` file [here](https://drive.google.com/file/d/1cdtzQ6OqG5pTX9d7y823L4TxKKHceLEw/view?usp=sharing). Explore the structure, check for missing values, and provide a summary of basic statistics"
   ]
  },
  {
   "cell_type": "code",
   "execution_count": null,
   "id": "a63a3aaf",
   "metadata": {},
   "outputs": [],
   "source": []
  },
  {
   "cell_type": "markdown",
   "id": "584c7632",
   "metadata": {},
   "source": [
    "### Task 2"
   ]
  },
  {
   "cell_type": "markdown",
   "id": "63e8b964",
   "metadata": {},
   "source": [
    "**a)** Create a time series plot for the emigration data over the entire period. Show the number of records by Year. To get the number of records you can use [resample](https://pandas.pydata.org/docs/reference/api/pandas.DataFrame.resample.html) and then get apply `size` method. You will need to set the dataframe index as the `Date_Time_Record` as a datetime type. Lastly, customize the plot with labels, titles, and legends. (3\n",
    " marks)"
   ]
  },
  {
   "cell_type": "code",
   "execution_count": null,
   "id": "674f58af",
   "metadata": {
    "scrolled": false
   },
   "outputs": [],
   "source": []
  },
  {
   "cell_type": "markdown",
   "id": "afc9f0f7",
   "metadata": {},
   "source": [
    "**b**) Using the previous plot, apply a moving average to smooth out short-term fluctuations in the data. Select a window size that captures variation observed in the previous plot. Compare the original time series with the smoothed version. (3 marks)"
   ]
  },
  {
   "cell_type": "code",
   "execution_count": null,
   "id": "2b29853d",
   "metadata": {},
   "outputs": [],
   "source": []
  },
  {
   "cell_type": "markdown",
   "id": "ff3d32f0",
   "metadata": {},
   "source": [
    "**c**) Implement the same graph in a), but resampled by Day. Which one gives a better insight into the data? Why? (3 marks)"
   ]
  },
  {
   "cell_type": "code",
   "execution_count": null,
   "id": "03d7b796",
   "metadata": {
    "scrolled": true
   },
   "outputs": [],
   "source": []
  },
  {
   "cell_type": "markdown",
   "id": "7a202869",
   "metadata": {},
   "source": [
    "### Task 3"
   ]
  },
  {
   "cell_type": "markdown",
   "id": "d7c063c1",
   "metadata": {},
   "source": [
    "**a**) Given the age groups below, plot the number of emigration records for each group over annual periods. Is there any difference in patter for the different groups? (3 marks)"
   ]
  },
  {
   "cell_type": "code",
   "execution_count": null,
   "id": "57889abe",
   "metadata": {},
   "outputs": [],
   "source": [
    "age_groups = [(18, 25), (26, 35), (36, 42), (43, 50), (51, 59)]"
   ]
  },
  {
   "cell_type": "code",
   "execution_count": null,
   "id": "82592ca9",
   "metadata": {},
   "outputs": [],
   "source": []
  },
  {
   "cell_type": "markdown",
   "id": "d5086e84",
   "metadata": {},
   "source": [
    "**b**) Based on the summary statistics of the data, try to create different groups for other attributes in the data. Investigate if there is any emigration patterns for various demographic groups (e.g. income levels, professions, etc). (3 marks)"
   ]
  },
  {
   "cell_type": "code",
   "execution_count": null,
   "id": "49f80770",
   "metadata": {},
   "outputs": [],
   "source": []
  },
  {
   "cell_type": "markdown",
   "id": "819f4176",
   "metadata": {},
   "source": [
    "**c**) Does the distance to the border impact the number of records over time? (3 marks)"
   ]
  },
  {
   "cell_type": "code",
   "execution_count": null,
   "id": "d576014c",
   "metadata": {},
   "outputs": [],
   "source": []
  },
  {
   "cell_type": "markdown",
   "id": "eb7e69d8",
   "metadata": {},
   "source": [
    "### Task 4"
   ]
  },
  {
   "cell_type": "markdown",
   "id": "60df0570",
   "metadata": {},
   "source": [
    "**a**) Given the record count per year, identify the 25th quantile and 75th quantile. You can use the [quantile](https://pandas.pydata.org/docs/reference/api/pandas.DataFrame.quantile.html) function after resampling and getting the size.  (3 marks)"
   ]
  },
  {
   "cell_type": "code",
   "execution_count": null,
   "id": "a71a0f8d",
   "metadata": {},
   "outputs": [],
   "source": []
  },
  {
   "cell_type": "markdown",
   "id": "48ec2227",
   "metadata": {},
   "source": [
    "**b**) Given the interquartile range (`75th percentile - 25th percentile`), calculate the lower and upper thresold to identify outliers. Values below `25th percentile - 1.5 * IQR` or above the `75th percentile + 1.5 * IQR` are usually considered outliers. (3 marks)"
   ]
  },
  {
   "cell_type": "code",
   "execution_count": null,
   "id": "25ffc2cd",
   "metadata": {},
   "outputs": [],
   "source": []
  },
  {
   "cell_type": "markdown",
   "id": "abb0a5c9",
   "metadata": {},
   "source": [
    "**c)** Given the lower and uper bounds in b), plot the number of records per year with a line chart and overlay the outlier values using a scatter plot. (3 marks)"
   ]
  },
  {
   "cell_type": "code",
   "execution_count": null,
   "id": "aa3774f0",
   "metadata": {
    "scrolled": false
   },
   "outputs": [],
   "source": []
  },
  {
   "cell_type": "markdown",
   "id": "6fd83263",
   "metadata": {},
   "source": [
    "### Task 5 (3 marks)"
   ]
  },
  {
   "cell_type": "markdown",
   "id": "2a96f865",
   "metadata": {},
   "source": [
    "Based on your observation, write a short report to the government of Arstotzka. What are the most striking findings in the data? What could be some future recommendations to the Arstotzkan government, in order to maintain emigration levels controlled?"
   ]
  }
 ],
 "metadata": {
  "kernelspec": {
   "display_name": "Python 3 (ipykernel)",
   "language": "python",
   "name": "python3"
  },
  "language_info": {
   "codemirror_mode": {
    "name": "ipython",
    "version": 3
   },
   "file_extension": ".py",
   "mimetype": "text/x-python",
   "name": "python",
   "nbconvert_exporter": "python",
   "pygments_lexer": "ipython3",
   "version": "3.11.4"
  }
 },
 "nbformat": 4,
 "nbformat_minor": 5
}
